{
 "cells": [
  {
   "cell_type": "markdown",
   "id": "14454ccc",
   "metadata": {},
   "source": [
    "# Setup"
   ]
  },
  {
   "cell_type": "markdown",
   "id": "87c670e5",
   "metadata": {},
   "source": [
    "python --version\n",
    "\n",
    "git --version\n",
    "\n",
    "### Python\n",
    "\n",
    "1. winget install Python.Python.3.10\n",
    "2. create then activate venv\n",
    "3. pip install ipykernel\n",
    "4. set venv as kernel for notebook\n",
    "\n",
    "### Git\n",
    "\n",
    "1. winget install --id Git.Git -e --source winget\n",
    "2. git clone https://github.com/stepanogil/cit-data-team-python-training.git\n"
   ]
  },
  {
   "cell_type": "markdown",
   "id": "667d774b",
   "metadata": {},
   "source": [
    "# Basic"
   ]
  },
  {
   "cell_type": "code",
   "execution_count": 2,
   "id": "7a13f4c9",
   "metadata": {},
   "outputs": [
    {
     "name": "stdout",
     "output_type": "stream",
     "text": [
      "Hello, World!\n"
     ]
    }
   ],
   "source": [
    "print(\"Hello, World!\")"
   ]
  },
  {
   "cell_type": "markdown",
   "id": "252dde3b",
   "metadata": {},
   "source": [
    "### Data Types\n"
   ]
  },
  {
   "cell_type": "code",
   "execution_count": null,
   "id": "a5fe8734",
   "metadata": {},
   "outputs": [],
   "source": [
    "# strings\n",
    "str = \"1\"\n",
    "\n",
    "# integers\n",
    "int = 1\n",
    "\n",
    "# floats\n",
    "float = 1.0\n",
    "\n",
    "# booleans\n",
    "bool = True\n",
    "\n",
    "# lists\n",
    "list = [1, 2, 3]\n",
    "\n",
    "# dictionaries\n",
    "dictionary = {\"name\": \"Juan Dela Cruz\", \n",
    "              \"age\": 30,\n",
    "              \"city\": \"New York\"}\n",
    "\n",
    "# list of dictionaries\n",
    "list_of_dicts = [\n",
    "    {\"name\": \"Juan Dela Cruz\", \"age\": 30, \"city\": \"New York\"},\n",
    "    {\"name\": \"Jane Doe\", \"age\": 25, \"city\": \"Los Angeles\"},\n",
    "    {\"name\": \"John Smith\", \"age\": 40, \"city\": \"Chicago\"}\n",
    "]"
   ]
  },
  {
   "cell_type": "markdown",
   "id": "a708c6b8",
   "metadata": {},
   "source": [
    "### Operations"
   ]
  },
  {
   "cell_type": "code",
   "execution_count": 4,
   "id": "2392b0c4",
   "metadata": {},
   "outputs": [
    {
     "name": "stdout",
     "output_type": "stream",
     "text": [
      "7.0\n",
      "-3.0\n",
      "10.0\n",
      "0.4\n",
      "32.0\n",
      "False\n",
      "True\n"
     ]
    }
   ],
   "source": [
    "a = 2\n",
    "b = 5.0\n",
    "\n",
    "# basic operations\n",
    "result_add = a + b\n",
    "print(result_add)\n",
    "\n",
    "result_sub = a - b\n",
    "print(result_sub)\n",
    "\n",
    "result_mul = a * b\n",
    "print(result_mul)\n",
    "\n",
    "result_div = a / b\n",
    "print(result_div)\n",
    "\n",
    "# exponentiation\n",
    "result_exp = a ** b\n",
    "print(result_exp)\n",
    "\n",
    "# comparisons\n",
    "result_eq = a == b\n",
    "print(result_eq)\n",
    "\n",
    "result_neq = a != b\n",
    "print(result_neq)\n",
    "\n",
    "# note: compare with training.py"
   ]
  },
  {
   "cell_type": "markdown",
   "id": "bd46548b",
   "metadata": {},
   "source": [
    "### Accessing Lists and Dicts\n"
   ]
  },
  {
   "cell_type": "code",
   "execution_count": null,
   "id": "dede2066",
   "metadata": {},
   "outputs": [
    {
     "data": {
      "text/plain": [
       "5"
      ]
     },
     "execution_count": 5,
     "metadata": {},
     "output_type": "execute_result"
    }
   ],
   "source": [
    "list[1]"
   ]
  },
  {
   "cell_type": "code",
   "execution_count": 31,
   "id": "4dab849f",
   "metadata": {},
   "outputs": [
    {
     "data": {
      "text/plain": [
       "'Juan Dela Cruz'"
      ]
     },
     "execution_count": 31,
     "metadata": {},
     "output_type": "execute_result"
    }
   ],
   "source": [
    "dictionary[\"name\"]"
   ]
  },
  {
   "cell_type": "code",
   "execution_count": 37,
   "id": "4fd14a42",
   "metadata": {},
   "outputs": [
    {
     "data": {
      "text/plain": [
       "'Juan Dela Cruz'"
      ]
     },
     "execution_count": 37,
     "metadata": {},
     "output_type": "execute_result"
    }
   ],
   "source": [
    "list_of_dicts[0][\"name\"]"
   ]
  },
  {
   "cell_type": "code",
   "execution_count": 35,
   "id": "bf8b8e64",
   "metadata": {},
   "outputs": [
    {
     "data": {
      "text/plain": [
       "'Not Specified'"
      ]
     },
     "execution_count": 35,
     "metadata": {},
     "output_type": "execute_result"
    }
   ],
   "source": [
    "list_of_dicts[0].get(\"sex\", \"Not Specified\")"
   ]
  },
  {
   "cell_type": "markdown",
   "id": "ef39ed79",
   "metadata": {},
   "source": [
    "### f strings"
   ]
  },
  {
   "cell_type": "code",
   "execution_count": 23,
   "id": "09997064",
   "metadata": {},
   "outputs": [
    {
     "name": "stdout",
     "output_type": "stream",
     "text": [
      "My name is Juan and I am 30 years old.\n"
     ]
    }
   ],
   "source": [
    "# f-strings\n",
    "\n",
    "name = \"Juan\"\n",
    "age = 30\n",
    "\n",
    "formatted_string = f\"My name is {name} and I am {age} years old.\"\n",
    "\n",
    "print(formatted_string)"
   ]
  },
  {
   "cell_type": "markdown",
   "id": "775546f6",
   "metadata": {},
   "source": [
    "### if, else, elif"
   ]
  },
  {
   "cell_type": "code",
   "execution_count": 40,
   "id": "d409017f",
   "metadata": {},
   "outputs": [
    {
     "name": "stdout",
     "output_type": "stream",
     "text": [
      "Minor\n"
     ]
    }
   ],
   "source": [
    "# example 1\n",
    "\n",
    "age = 9\n",
    "\n",
    "if age < 18:\n",
    "    print('Minor')\n",
    "elif age >= 18 and age < 65:\n",
    "    print('Adult')\n",
    "else:\n",
    "    print('Senior')"
   ]
  },
  {
   "cell_type": "code",
   "execution_count": 39,
   "id": "9c8c4c6d",
   "metadata": {},
   "outputs": [
    {
     "name": "stdout",
     "output_type": "stream",
     "text": [
      "Great day for a picnic!\n"
     ]
    }
   ],
   "source": [
    "# example 2\n",
    "\n",
    "weather = \"sunny\"\n",
    "\n",
    "if weather == \"sunny\":\n",
    "    print(\"Great day for a picnic!\")\n",
    "elif weather == \"rainy\":\n",
    "    print(\"Don't forget your umbrella!\")\n",
    "elif weather == \"cloudy\":\n",
    "    print(\"Might rain later.\")\n",
    "else:\n",
    "    print(\"Check the weather forecast.\")"
   ]
  },
  {
   "cell_type": "markdown",
   "id": "79a74ea3",
   "metadata": {},
   "source": [
    "### for loops"
   ]
  },
  {
   "cell_type": "code",
   "execution_count": null,
   "id": "e02c3f7f",
   "metadata": {},
   "outputs": [
    {
     "name": "stdout",
     "output_type": "stream",
     "text": [
      "1\n",
      "2\n",
      "3\n"
     ]
    }
   ],
   "source": [
    "for item in list:\n",
    "    print(list)"
   ]
  },
  {
   "cell_type": "code",
   "execution_count": 42,
   "id": "ac8ff133",
   "metadata": {},
   "outputs": [
    {
     "name": "stdout",
     "output_type": "stream",
     "text": [
      "P\n",
      "y\n",
      "t\n",
      "h\n",
      "o\n",
      "n\n"
     ]
    }
   ],
   "source": [
    "word = \"Python\"\n",
    "for letter in word:\n",
    "    print(letter)"
   ]
  },
  {
   "cell_type": "code",
   "execution_count": 48,
   "id": "39995291",
   "metadata": {},
   "outputs": [
    {
     "name": "stdout",
     "output_type": "stream",
     "text": [
      "Juan Dela Cruz\n",
      "30\n",
      "New York\n"
     ]
    }
   ],
   "source": [
    "for key in dictionary:\n",
    "    print(dictionary[key])"
   ]
  },
  {
   "cell_type": "markdown",
   "id": "4232c2d5",
   "metadata": {},
   "source": [
    "### functions"
   ]
  },
  {
   "cell_type": "code",
   "execution_count": null,
   "id": "b5596fdb",
   "metadata": {},
   "outputs": [
    {
     "data": {
      "text/plain": [
       "27"
      ]
     },
     "execution_count": 1,
     "metadata": {},
     "output_type": "execute_result"
    }
   ],
   "source": [
    "# define function\n",
    "def cubed(x):\n",
    "    y = x**3\n",
    "    return y\n",
    "\n",
    "# use function\n",
    "cubed(3)"
   ]
  },
  {
   "cell_type": "markdown",
   "id": "605aa6b5",
   "metadata": {},
   "source": [
    "# Exercises"
   ]
  },
  {
   "cell_type": "markdown",
   "id": "15e75e55",
   "metadata": {},
   "source": [
    "Exercise 1: Personal Information\n",
    "\n",
    "- Create a dictionary with your personal information (name, position, years in JG)\n",
    "- Use f-strings to print a formatted introduction about yourself"
   ]
  },
  {
   "cell_type": "markdown",
   "id": "bd4d1aa5",
   "metadata": {},
   "source": [
    "Exercise 2: Grade Classifier\n",
    "- Write a program that takes a numerical grade and uses if/elif/else to classify it:\n",
    "- 90-100: \"A\", 80-89: \"B\", 70-79: \"C\", 60-69: \"D\", below 60: \"F\""
   ]
  },
  {
   "cell_type": "markdown",
   "id": "9ed82813",
   "metadata": {},
   "source": [
    "Exercise 3: List Manipulation\n",
    "- Start with a list of numbers [1, 2, 3, 4, 5]\n",
    "- Create a new list containing the square of each number using a for loop\n",
    "- Print both the original number and its square using f-strings"
   ]
  }
 ],
 "metadata": {
  "kernelspec": {
   "display_name": "Python 3",
   "language": "python",
   "name": "python3"
  },
  "language_info": {
   "codemirror_mode": {
    "name": "ipython",
    "version": 3
   },
   "file_extension": ".py",
   "mimetype": "text/x-python",
   "name": "python",
   "nbconvert_exporter": "python",
   "pygments_lexer": "ipython3",
   "version": "3.10.11"
  }
 },
 "nbformat": 4,
 "nbformat_minor": 5
}
