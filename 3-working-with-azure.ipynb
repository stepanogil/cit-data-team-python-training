{
 "cells": [
  {
   "cell_type": "markdown",
   "id": "05fd3e6c",
   "metadata": {},
   "source": [
    "### APIs"
   ]
  },
  {
   "cell_type": "code",
   "execution_count": null,
   "id": "049d0527",
   "metadata": {},
   "outputs": [],
   "source": [
    "# pip install requests\n",
    "!pip install requests\n",
    "!pip install python-dotenv"
   ]
  },
  {
   "cell_type": "markdown",
   "id": "7f3582aa",
   "metadata": {},
   "source": [
    "### HTTP Methods (CRUD Operations)"
   ]
  },
  {
   "cell_type": "code",
   "execution_count": null,
   "id": "8bd8d8b0",
   "metadata": {},
   "outputs": [],
   "source": [
    "\n",
    "# GET = SELECT (read data)\n",
    "# Used to retrieve/read data from a server\n",
    "# Example: Get list of employees\n",
    "\n",
    "# POST = INSERT (create new data)\n",
    "# Used to create new records\n",
    "# Example: Create a new employee record\n",
    "\n",
    "# PUT = UPDATE (modify existing data)\n",
    "# Used to update/replace existing records\n",
    "# Example: Update employee salary\n",
    "\n",
    "# DELETE = DELETE (remove data)\n",
    "# Used to remove records\n",
    "# Example: Delete an employee record"
   ]
  },
  {
   "cell_type": "markdown",
   "id": "7d1a5845",
   "metadata": {},
   "source": [
    "### Status Codes"
   ]
  },
  {
   "cell_type": "code",
   "execution_count": null,
   "id": "94b473ff",
   "metadata": {},
   "outputs": [],
   "source": [
    "# Status codes tell you if your request worked or not\n",
    "# Like SY-SUBRC in ABAP!\n",
    "\n",
    "# 2xx = Success (like SY-SUBRC = 0)\n",
    "200  # OK - Request successful\n",
    "201  # Created - New record created successfully\n",
    "\n",
    "# 4xx = Client Error (like SY-SUBRC = 4)\n",
    "400  # Bad Request - Your request has errors\n",
    "401  # Unauthorized - You need to login/authenticate\n",
    "404  # Not Found - The resource doesn't exist\n",
    "\n",
    "# 5xx = Server Error (like SY-SUBRC = 8)\n",
    "500  # Internal Server Error - Something broke on the server"
   ]
  },
  {
   "cell_type": "markdown",
   "id": "6d61a2c9",
   "metadata": {},
   "source": [
    "### Working with Azure Storage"
   ]
  },
  {
   "cell_type": "code",
   "execution_count": 1,
   "id": "2ca34b59",
   "metadata": {},
   "outputs": [
    {
     "data": {
      "text/html": [
       "<div>\n",
       "<style scoped>\n",
       "    .dataframe tbody tr th:only-of-type {\n",
       "        vertical-align: middle;\n",
       "    }\n",
       "\n",
       "    .dataframe tbody tr th {\n",
       "        vertical-align: top;\n",
       "    }\n",
       "\n",
       "    .dataframe thead th {\n",
       "        text-align: right;\n",
       "    }\n",
       "</style>\n",
       "<table border=\"1\" class=\"dataframe\">\n",
       "  <thead>\n",
       "    <tr style=\"text-align: right;\">\n",
       "      <th></th>\n",
       "      <th>EmployeeID</th>\n",
       "      <th>FirstName</th>\n",
       "      <th>LastName</th>\n",
       "      <th>Department</th>\n",
       "      <th>Position</th>\n",
       "      <th>City</th>\n",
       "      <th>Age</th>\n",
       "      <th>Salary</th>\n",
       "      <th>DateHired</th>\n",
       "    </tr>\n",
       "  </thead>\n",
       "  <tbody>\n",
       "    <tr>\n",
       "      <th>0</th>\n",
       "      <td>E1000</td>\n",
       "      <td>Emma</td>\n",
       "      <td>Gutierrez</td>\n",
       "      <td>IT</td>\n",
       "      <td>Executive</td>\n",
       "      <td>Makati</td>\n",
       "      <td>58</td>\n",
       "      <td>86907</td>\n",
       "      <td>2020-07-08</td>\n",
       "    </tr>\n",
       "    <tr>\n",
       "      <th>1</th>\n",
       "      <td>E1001</td>\n",
       "      <td>Maria</td>\n",
       "      <td>Perez</td>\n",
       "      <td>HR</td>\n",
       "      <td>Executive</td>\n",
       "      <td>Taguig</td>\n",
       "      <td>33</td>\n",
       "      <td>88777</td>\n",
       "      <td>2019-10-14</td>\n",
       "    </tr>\n",
       "    <tr>\n",
       "      <th>2</th>\n",
       "      <td>E1002</td>\n",
       "      <td>Diego</td>\n",
       "      <td>Santos</td>\n",
       "      <td>Operations</td>\n",
       "      <td>Clerk</td>\n",
       "      <td>Manila</td>\n",
       "      <td>24</td>\n",
       "      <td>43977</td>\n",
       "      <td>2017-12-14</td>\n",
       "    </tr>\n",
       "    <tr>\n",
       "      <th>3</th>\n",
       "      <td>E1003</td>\n",
       "      <td>Isabel</td>\n",
       "      <td>Rivera</td>\n",
       "      <td>Finance</td>\n",
       "      <td>Engineer</td>\n",
       "      <td>Taguig</td>\n",
       "      <td>22</td>\n",
       "      <td>73624</td>\n",
       "      <td>2019-04-19</td>\n",
       "    </tr>\n",
       "    <tr>\n",
       "      <th>4</th>\n",
       "      <td>E1004</td>\n",
       "      <td>John</td>\n",
       "      <td>Hernandez</td>\n",
       "      <td>Finance</td>\n",
       "      <td>Executive</td>\n",
       "      <td>Makati</td>\n",
       "      <td>54</td>\n",
       "      <td>93321</td>\n",
       "      <td>2014-07-25</td>\n",
       "    </tr>\n",
       "  </tbody>\n",
       "</table>\n",
       "</div>"
      ],
      "text/plain": [
       "  EmployeeID FirstName   LastName  Department   Position    City  Age  Salary  \\\n",
       "0      E1000      Emma  Gutierrez          IT  Executive  Makati   58   86907   \n",
       "1      E1001     Maria      Perez          HR  Executive  Taguig   33   88777   \n",
       "2      E1002     Diego     Santos  Operations      Clerk  Manila   24   43977   \n",
       "3      E1003    Isabel     Rivera     Finance   Engineer  Taguig   22   73624   \n",
       "4      E1004      John  Hernandez     Finance  Executive  Makati   54   93321   \n",
       "\n",
       "    DateHired  \n",
       "0  2020-07-08  \n",
       "1  2019-10-14  \n",
       "2  2017-12-14  \n",
       "3  2019-04-19  \n",
       "4  2014-07-25  "
      ]
     },
     "execution_count": 1,
     "metadata": {},
     "output_type": "execute_result"
    }
   ],
   "source": [
    "import requests\n",
    "import os\n",
    "from dotenv import load_dotenv\n",
    "import pandas as pd\n",
    "from io import StringIO\n",
    "\n",
    "load_dotenv()\n",
    "\n",
    "url = \"https://synapsedl50415.blob.core.windows.net/cit-training/employees.csv\"\n",
    "sas_token = os.getenv(\"SAS_TOKEN\")\n",
    "\n",
    "full_url = url + \"?\" + sas_token\n",
    "\n",
    "response = requests.get(full_url)\n",
    "    \n",
    "df = pd.read_csv(StringIO(response.text))\n",
    "df.head()"
   ]
  },
  {
   "cell_type": "markdown",
   "id": "4599030a",
   "metadata": {},
   "source": [
    "### Working with NoSQL"
   ]
  },
  {
   "cell_type": "markdown",
   "id": "658d8640",
   "metadata": {},
   "source": [
    "### ETL: extract (azure storage) > transform (python) > load (azure sql)"
   ]
  }
 ],
 "metadata": {
  "kernelspec": {
   "display_name": "Python 3",
   "language": "python",
   "name": "python3"
  },
  "language_info": {
   "codemirror_mode": {
    "name": "ipython",
    "version": 3
   },
   "file_extension": ".py",
   "mimetype": "text/x-python",
   "name": "python",
   "nbconvert_exporter": "python",
   "pygments_lexer": "ipython3",
   "version": "3.10.11"
  }
 },
 "nbformat": 4,
 "nbformat_minor": 5
}
